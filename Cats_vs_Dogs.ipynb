{
  "nbformat": 4,
  "nbformat_minor": 0,
  "metadata": {
    "colab": {
      "name": "Cats-vs-Dogs.ipynb",
      "provenance": [],
      "mount_file_id": "1sTRYyBjcc_XH3ug2UjGcz01jD18ACB8U",
      "authorship_tag": "ABX9TyOWcHIPNGMWn9omD09Uc1tO",
      "include_colab_link": true
    },
    "kernelspec": {
      "name": "python3",
      "display_name": "Python 3"
    },
    "accelerator": "GPU"
  },
  "cells": [
    {
      "cell_type": "markdown",
      "metadata": {
        "id": "view-in-github",
        "colab_type": "text"
      },
      "source": [
        "<a href=\"https://colab.research.google.com/github/Meghat525/Cats-vs-Dogs/blob/master/Cats_vs_Dogs.ipynb\" target=\"_parent\"><img src=\"https://colab.research.google.com/assets/colab-badge.svg\" alt=\"Open In Colab\"/></a>"
      ]
    },
    {
      "cell_type": "code",
      "metadata": {
        "id": "Etv-yvuxSQcD",
        "colab_type": "code",
        "colab": {}
      },
      "source": [
        "import os\n",
        "import zipfile\n",
        "import random\n",
        "import tensorflow as tf\n",
        "import shutil\n",
        "from tensorflow.keras.optimizers import RMSprop\n",
        "from tensorflow.keras.preprocessing.image import ImageDataGenerator\n",
        "from shutil import copyfile\n",
        "from os import getcwd"
      ],
      "execution_count": 0,
      "outputs": []
    },
    {
      "cell_type": "code",
      "metadata": {
        "id": "2IqRUdfIVx_U",
        "colab_type": "code",
        "colab": {}
      },
      "source": [
        "local_zip = \"drive/My Drive/train.zip\"\n",
        "zip_ref = zipfile.ZipFile(local_zip, 'r')\n",
        "zip_ref.extractall('train')\n",
        "zip_ref.close()"
      ],
      "execution_count": 0,
      "outputs": []
    },
    {
      "cell_type": "code",
      "metadata": {
        "id": "kg0Mg1HFVyT-",
        "colab_type": "code",
        "colab": {}
      },
      "source": [
        "# Use os.mkdir to create your directories\n",
        "# You will need a directory for cats-v-dogs, and subdirectories for training\n",
        "# and testing. These in turn will need subdirectories for 'cats' and 'dogs'\n",
        "try:\n",
        "    os.mkdir(\"cats-vs-dogs\")\n",
        "    os.mkdir(\"cats-vs-dogs/training\")\n",
        "    os.mkdir(\"cats-vs-dogs/testing\")\n",
        "    os.mkdir(\"cats-vs-dogs/training/cats\")\n",
        "    os.mkdir(\"cats-vs-dogs/training/dogs\")\n",
        "    os.mkdir(\"cats-vs-dogs/testing/cats\")\n",
        "    os.mkdir(\"cats-vs-dogs/testing/dogs\")\n",
        "except OSError:\n",
        "    pass"
      ],
      "execution_count": 0,
      "outputs": []
    },
    {
      "cell_type": "code",
      "metadata": {
        "id": "jWvHxK8vVyVq",
        "colab_type": "code",
        "colab": {}
      },
      "source": [
        "# Write a python function called split_data which takes\n",
        "# a SOURCE directory containing the files\n",
        "# a TRAINING directory that a portion of the files will be copied to\n",
        "# a TESTING directory that a portion of the files will be copie to\n",
        "# a SPLIT SIZE to determine the portion\n",
        "# The files should also be randomized, so that the training set is a random\n",
        "# X% of the files, and the test set is the remaining files\n",
        "# SO, for example, if SOURCE is PetImages/Cat, and SPLIT SIZE is .9\n",
        "# Then 90% of the images in PetImages/Cat will be copied to the TRAINING dir\n",
        "# and 10% of the images will be copied to the TESTING dir\n",
        "# Also -- All images should be checked, and if they have a zero file length,\n",
        "# they will not be copied over\n",
        "#\n",
        "# os.listdir(DIRECTORY) gives you a listing of the contents of that directory\n",
        "# os.path.getsize(PATH) gives you the size of the file\n",
        "# copyfile(source, destination) copies a file from source to destination\n",
        "# random.sample(list, len(list)) shuffles a list\n",
        "def split_data(SOURCE, TRAINING, TESTING, SPLIT_SIZE):\n",
        "# YOUR CODE STARTS HERE\n",
        "    dataset = []\n",
        "    \n",
        "    for file in os.listdir(SOURCE):\n",
        "        data = SOURCE + file\n",
        "        if (os.path.getsize(data) > 0):\n",
        "            dataset.append(file)\n",
        "        else:\n",
        "            print('Skipped ' + file)\n",
        "            print('Zero length.')\n",
        "    \n",
        "    training_set_len = int(len(dataset) * SPLIT_SIZE)\n",
        "    testing_set_len = int(len(dataset) - training_set_len)\n",
        "    shuffled_set = random.sample(dataset, len(dataset))\n",
        "    training_set = shuffled_set[0:training_set_len]\n",
        "    testing_set = shuffled_set[training_set_len:]\n",
        "    \n",
        "    for file in training_set:\n",
        "        temp_train_data = SOURCE + file\n",
        "        final_train_data = TRAINING + file\n",
        "        copyfile(temp_train_data, final_train_data)\n",
        "    \n",
        "    for file in testing_set:\n",
        "        temp_test_data = SOURCE + file\n",
        "        final_test_data = TESTING + file\n",
        "        copyfile(temp_train_data, final_test_data)\n",
        "# YOUR CODE ENDS HERE\n",
        "\n",
        "\n",
        "CAT_SOURCE_DIR = \"train/train/Cats/\"\n",
        "TRAINING_CATS_DIR = \"cats-vs-dogs/training/cats/\"\n",
        "TESTING_CATS_DIR = \"cats-vs-dogs/testing/cats/\"\n",
        "DOG_SOURCE_DIR = \"train/train/Dogs/\"\n",
        "TRAINING_DOGS_DIR = \"cats-vs-dogs/training/dogs/\"\n",
        "TESTING_DOGS_DIR = \"cats-vs-dogs/testing/dogs/\"\n",
        "\n",
        "split_size = 0.9\n",
        "split_data(CAT_SOURCE_DIR, TRAINING_CATS_DIR, TESTING_CATS_DIR, split_size)\n",
        "split_data(DOG_SOURCE_DIR, TRAINING_DOGS_DIR, TESTING_DOGS_DIR, split_size)"
      ],
      "execution_count": 0,
      "outputs": []
    },
    {
      "cell_type": "code",
      "metadata": {
        "id": "dUcw-MnAVyY_",
        "colab_type": "code",
        "colab": {}
      },
      "source": [
        "# DEFINE A KERAS MODEL TO CLASSIFY CATS V DOGS\n",
        "# USE AT LEAST 3 CONVOLUTION LAYERS\n",
        "model = tf.keras.models.Sequential([# Note the input shape is the desired size of the image 150x150 with 3 bytes color\n",
        "                                    tf.keras.layers.Conv2D(64, (3,3), activation=tf.nn.relu, input_shape=(150, 150, 3)),\n",
        "                                    tf.keras.layers.MaxPooling2D(2,2),\n",
        "                                    tf.keras.layers.Conv2D(128, (3,3), activation=tf.nn.relu),\n",
        "                                    tf.keras.layers.MaxPooling2D(2,2), \n",
        "                                    tf.keras.layers.Conv2D(32, (1,1), activation=tf.nn.relu), \n",
        "                                    tf.keras.layers.MaxPooling2D(2,2),\n",
        "                                    tf.keras.layers.Conv2D(128, (3,3), activation=tf.nn.relu), \n",
        "                                    tf.keras.layers.MaxPooling2D(2,2),\n",
        "                                    # Flatten the results to feed into a DNN\n",
        "                                    tf.keras.layers.Flatten(), \n",
        "                                    # 512 neuron hidden layer\n",
        "                                    tf.keras.layers.Dense(512, activation=tf.nn.relu), \n",
        "                                    # Only 1 output neuron. It will contain a value from 0-1 where 0 for 1 class ('cats') and 1 for the other ('dogs')\n",
        "                                    tf.keras.layers.Dense(1, activation=tf.nn.sigmoid) ])\n",
        "\n",
        "model.compile(optimizer=RMSprop(lr=0.001), loss='binary_crossentropy', metrics=['acc'])"
      ],
      "execution_count": 0,
      "outputs": []
    },
    {
      "cell_type": "code",
      "metadata": {
        "id": "bnqcKrMGWtwQ",
        "colab_type": "code",
        "outputId": "62bdfdd3-fb1b-4fc0-e6cd-3eed10c6fc9b",
        "colab": {
          "base_uri": "https://localhost:8080/",
          "height": 50
        }
      },
      "source": [
        "TRAINING_DIR = \"cats-vs-dogs/training/\"\n",
        "train_datagen = ImageDataGenerator(rescale=1./255)\n",
        "\n",
        "\n",
        "train_generator = train_datagen.flow_from_directory(TRAINING_DIR,\n",
        "                                                    batch_size=20,\n",
        "                                                    class_mode='binary',\n",
        "                                                    target_size=(150, 150))                                                   \n",
        "\n",
        "VALIDATION_DIR = \"cats-vs-dogs/testing/\"\n",
        "validation_datagen = ImageDataGenerator(rescale=1./255)\n",
        "\n",
        "validation_generator = validation_datagen.flow_from_directory(VALIDATION_DIR,\n",
        "                                                              batch_size=20,\n",
        "                                                              class_mode='binary',\n",
        "                                                              target_size=(150, 150))\n",
        "\n",
        "\n",
        "\n",
        "#Output:Found 22500 images belonging to 2 classes.\n",
        "#Found 2500 images belonging to 2 classes."
      ],
      "execution_count": 6,
      "outputs": [
        {
          "output_type": "stream",
          "text": [
            "Found 22500 images belonging to 2 classes.\n",
            "Found 2500 images belonging to 2 classes.\n"
          ],
          "name": "stdout"
        }
      ]
    },
    {
      "cell_type": "code",
      "metadata": {
        "id": "KK24kflBWxdx",
        "colab_type": "code",
        "outputId": "5c68fd23-bba8-4795-8e62-c35f0b1658d5",
        "colab": {
          "base_uri": "https://localhost:8080/",
          "height": 521
        }
      },
      "source": [
        "history = model.fit(train_generator,\n",
        "                    validation_data=validation_generator,\n",
        "                    steps_per_epoch=1125,\n",
        "                    epochs=15,\n",
        "                    validation_steps=125,\n",
        "                    verbose=2)\n"
      ],
      "execution_count": 8,
      "outputs": [
        {
          "output_type": "stream",
          "text": [
            "Epoch 1/15\n",
            "1125/1125 - 76s - loss: 0.5881 - acc: 0.6832 - val_loss: 0.2041 - val_acc: 1.0000\n",
            "Epoch 2/15\n",
            "1125/1125 - 74s - loss: 0.4547 - acc: 0.7905 - val_loss: 0.0643 - val_acc: 1.0000\n",
            "Epoch 3/15\n",
            "1125/1125 - 74s - loss: 0.3897 - acc: 0.8297 - val_loss: 0.0490 - val_acc: 1.0000\n",
            "Epoch 4/15\n",
            "1125/1125 - 74s - loss: 0.3464 - acc: 0.8522 - val_loss: 0.1417 - val_acc: 1.0000\n",
            "Epoch 5/15\n",
            "1125/1125 - 74s - loss: 0.3196 - acc: 0.8678 - val_loss: 0.0060 - val_acc: 1.0000\n",
            "Epoch 6/15\n",
            "1125/1125 - 74s - loss: 0.2991 - acc: 0.8816 - val_loss: 0.0103 - val_acc: 1.0000\n",
            "Epoch 7/15\n",
            "1125/1125 - 72s - loss: 0.2849 - acc: 0.8877 - val_loss: 0.0362 - val_acc: 1.0000\n",
            "Epoch 8/15\n",
            "1125/1125 - 71s - loss: 0.2817 - acc: 0.8910 - val_loss: 0.0934 - val_acc: 1.0000\n",
            "Epoch 9/15\n",
            "1125/1125 - 71s - loss: 0.2767 - acc: 0.8943 - val_loss: 0.0343 - val_acc: 1.0000\n",
            "Epoch 10/15\n",
            "1125/1125 - 71s - loss: 0.2847 - acc: 0.8945 - val_loss: 0.0130 - val_acc: 1.0000\n",
            "Epoch 11/15\n",
            "1125/1125 - 71s - loss: 0.2717 - acc: 0.8972 - val_loss: 0.0868 - val_acc: 1.0000\n",
            "Epoch 12/15\n",
            "1125/1125 - 70s - loss: 0.2762 - acc: 0.8987 - val_loss: 0.0091 - val_acc: 1.0000\n",
            "Epoch 13/15\n",
            "1125/1125 - 70s - loss: 0.2730 - acc: 0.8983 - val_loss: 0.0447 - val_acc: 1.0000\n",
            "Epoch 14/15\n",
            "1125/1125 - 70s - loss: 0.2740 - acc: 0.9009 - val_loss: 0.0368 - val_acc: 1.0000\n",
            "Epoch 15/15\n",
            "1125/1125 - 70s - loss: 0.2822 - acc: 0.8988 - val_loss: 0.1196 - val_acc: 1.0000\n"
          ],
          "name": "stdout"
        }
      ]
    },
    {
      "cell_type": "markdown",
      "metadata": {
        "id": "m6PIsbkm2GKy",
        "colab_type": "text"
      },
      "source": [
        "For making predictions on new images in a folder"
      ]
    },
    {
      "cell_type": "code",
      "metadata": {
        "id": "0usqo61WURp6",
        "colab_type": "code",
        "colab": {}
      },
      "source": [
        "local_zip = \"drive/My Drive/test1.zip\"\n",
        "zip_ref = zipfile.ZipFile(local_zip, 'r')\n",
        "zip_ref.extractall('test1')\n",
        "zip_ref.close()\n"
      ],
      "execution_count": 0,
      "outputs": []
    },
    {
      "cell_type": "code",
      "metadata": {
        "id": "u8RBHfPeaDXa",
        "colab_type": "code",
        "outputId": "f105b965-cb9a-40d7-a35f-21f79cf9a107",
        "colab": {
          "base_uri": "https://localhost:8080/",
          "height": 205
        }
      },
      "source": [
        "from keras.models import load_model\n",
        "from keras.preprocessing import image\n",
        "import numpy as np\n",
        "import os\n",
        "\n",
        "# image folder\n",
        "folder_path = 'test1/test1/'\n",
        "\n",
        "# dimensions of images\n",
        "img_width, img_height = 150,150\n",
        "\n",
        "\n",
        "# load all images into a list\n",
        "images = []\n",
        "for img in os.listdir(folder_path):\n",
        "    img = os.path.join(folder_path, img)\n",
        "    img = image.load_img(img, target_size=(img_width, img_height))\n",
        "    img = image.img_to_array(img)\n",
        "    img = np.expand_dims(img, axis=0)\n",
        "    images.append(img)\n",
        "\n",
        "# stack up images list to pass for prediction\n",
        "images = np.vstack(images)\n",
        "classes = model.predict_classes(images, batch_size=10)\n",
        "print(classes)"
      ],
      "execution_count": 16,
      "outputs": [
        {
          "output_type": "stream",
          "text": [
            "WARNING:tensorflow:From <ipython-input-16-2d463512c6af>:24: Sequential.predict_classes (from tensorflow.python.keras.engine.sequential) is deprecated and will be removed after 2021-01-01.\n",
            "Instructions for updating:\n",
            "Please use instead:* `np.argmax(model.predict(x), axis=-1)`,   if your model does multi-class classification   (e.g. if it uses a `softmax` last-layer activation).* `(model.predict(x) > 0.5).astype(\"int32\")`,   if your model does binary classification   (e.g. if it uses a `sigmoid` last-layer activation).\n",
            "[[0]\n",
            " [1]\n",
            " [0]\n",
            " ...\n",
            " [1]\n",
            " [1]\n",
            " [1]]\n"
          ],
          "name": "stdout"
        }
      ]
    },
    {
      "cell_type": "code",
      "metadata": {
        "id": "zve-Y7Bhw1_j",
        "colab_type": "code",
        "colab": {}
      },
      "source": [
        "y_pred=[]\n",
        "for i in range(len(classes)):\n",
        "  y_pred.append(classes[i][0])"
      ],
      "execution_count": 0,
      "outputs": []
    },
    {
      "cell_type": "code",
      "metadata": {
        "id": "Lrf_tQQWxsZ3",
        "colab_type": "code",
        "colab": {}
      },
      "source": [
        "import pandas as pd\n",
        "result=pd.DataFrame({\"id\":range(1,12501),\"label\":y_pred})\n",
        "result.head()\n",
        "result_csv=result.to_csv(\"result_cats-n-dogs1.csv\", encoding='utf-8', index=False)"
      ],
      "execution_count": 0,
      "outputs": []
    },
    {
      "cell_type": "code",
      "metadata": {
        "id": "fcmp3XBUypJ-",
        "colab_type": "code",
        "colab": {}
      },
      "source": [
        "from google.colab import files\n",
        "files.download('result_cats-n-dogs1.csv')"
      ],
      "execution_count": 0,
      "outputs": []
    }
  ]
}